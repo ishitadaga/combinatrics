{
 "cells": [
  {
   "cell_type": "code",
   "execution_count": 23,
   "metadata": {},
   "outputs": [
    {
     "name": "stdout",
     "output_type": "stream",
     "text": [
      "number of ways 15 can be reprsented with 8 is 146\n"
     ]
    }
   ],
   "source": [
    "def number_of_ways(num, max_upto):\n",
    "    \n",
    "    probable_sums={}\n",
    "    count=0\n",
    "    for i in range(1, max_upto+1):\n",
    "        n=num-i\n",
    "        if n<0:\n",
    "            vl=0\n",
    "        elif n==0:\n",
    "            vl=1\n",
    "        else:\n",
    "            vl=n\n",
    "        probable_sums[i]=vl\n",
    "#     print (probable_sums)\n",
    "    for keys, values in probable_sums.items():\n",
    "        if keys==1:\n",
    "            count+=1\n",
    "        elif values==0:\n",
    "            break;\n",
    "        else:\n",
    "            count=count+number_of_ways(values, keys)\n",
    "#         print (count)\n",
    "    return count\n",
    "\n",
    "num=15\n",
    "ways=8\n",
    "x=number_of_ways(num, ways)\n",
    "print (\"number of ways\", str(num), \"can be reprsented with\" , str(ways), \"is\", str(x))\n"
   ]
  },
  {
   "cell_type": "code",
   "execution_count": null,
   "metadata": {},
   "outputs": [],
   "source": []
  }
 ],
 "metadata": {
  "kernelspec": {
   "display_name": "Python 3",
   "language": "python",
   "name": "python3"
  },
  "language_info": {
   "codemirror_mode": {
    "name": "ipython",
    "version": 3
   },
   "file_extension": ".py",
   "mimetype": "text/x-python",
   "name": "python",
   "nbconvert_exporter": "python",
   "pygments_lexer": "ipython3",
   "version": "3.6.4"
  }
 },
 "nbformat": 4,
 "nbformat_minor": 2
}
